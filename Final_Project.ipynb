{
 "cells": [
  {
   "cell_type": "code",
   "execution_count": 99,
   "id": "initial_id",
   "metadata": {
    "collapsed": true,
    "id": "initial_id",
    "ExecuteTime": {
     "end_time": "2023-12-15T05:38:40.628040Z",
     "start_time": "2023-12-15T05:38:40.594845Z"
    }
   },
   "outputs": [],
   "source": [
    "import numpy as np\n",
    "import pandas as pd\n",
    "import warnings\n",
    "import matplotlib.pyplot as plt\n",
    "from sklearn.model_selection import train_test_split\n",
    "warnings.filterwarnings('ignore')\n",
    "from sklearn.metrics import accuracy_score, precision_score, recall_score, f1_score\n",
    "from sklearn.ensemble import RandomForestClassifier\n",
    "from sklearn.metrics import classification_report, confusion_matrix\n",
    "import seaborn as sns"
   ]
  },
  {
   "cell_type": "code",
   "execution_count": 100,
   "outputs": [],
   "source": [
    "train = pd.read_csv('train.csv')\n",
    "test = pd.read_csv('test.csv')"
   ],
   "metadata": {
    "id": "e214754b3a462b18",
    "ExecuteTime": {
     "end_time": "2023-12-15T05:38:41.460501Z",
     "start_time": "2023-12-15T05:38:40.598115Z"
    }
   },
   "id": "e214754b3a462b18"
  },
  {
   "cell_type": "code",
   "execution_count": 101,
   "outputs": [
    {
     "data": {
      "text/plain": "id        0\nTime      0\nV1        0\nV2        0\nV3        0\nV4        0\nV5        0\nV6        0\nV7        0\nV8        0\nV9        0\nV10       0\nV11       0\nV12       0\nV13       0\nV14       0\nV15       0\nV16       0\nV17       0\nV18       0\nV19       0\nV20       0\nV21       0\nV22       0\nV23       0\nV24       0\nV25       0\nV26       0\nV27       0\nV28       0\nAmount    0\nClass     0\ndtype: int64"
     },
     "execution_count": 101,
     "metadata": {},
     "output_type": "execute_result"
    }
   ],
   "source": [
    "train.isnull().sum()"
   ],
   "metadata": {
    "id": "5ca4b1bc947753bb",
    "outputId": "0f748fd4-e5c4-4302-b6d3-1c73af250417",
    "colab": {
     "base_uri": "https://localhost:8080/"
    },
    "ExecuteTime": {
     "end_time": "2023-12-15T05:38:41.471079Z",
     "start_time": "2023-12-15T05:38:41.460731Z"
    }
   },
   "id": "5ca4b1bc947753bb"
  },
  {
   "cell_type": "code",
   "execution_count": 102,
   "outputs": [
    {
     "data": {
      "text/plain": "id        0\nTime      0\nV1        0\nV2        0\nV3        0\nV4        0\nV5        0\nV6        0\nV7        0\nV8        0\nV9        0\nV10       0\nV11       0\nV12       0\nV13       0\nV14       0\nV15       0\nV16       0\nV17       0\nV18       0\nV19       0\nV20       0\nV21       0\nV22       0\nV23       0\nV24       0\nV25       0\nV26       0\nV27       0\nV28       0\nAmount    0\ndtype: int64"
     },
     "execution_count": 102,
     "metadata": {},
     "output_type": "execute_result"
    }
   ],
   "source": [
    "test.isnull().sum()"
   ],
   "metadata": {
    "id": "bcc4e4c7afec74b7",
    "outputId": "a52eeba5-aeec-4295-ad98-48deefe1640a",
    "colab": {
     "base_uri": "https://localhost:8080/"
    },
    "ExecuteTime": {
     "end_time": "2023-12-15T05:38:41.477601Z",
     "start_time": "2023-12-15T05:38:41.469097Z"
    }
   },
   "id": "bcc4e4c7afec74b7"
  },
  {
   "cell_type": "code",
   "execution_count": 103,
   "outputs": [
    {
     "name": "stdout",
     "output_type": "stream",
     "text": [
      "<class 'pandas.core.frame.DataFrame'>\n",
      "RangeIndex: 219129 entries, 0 to 219128\n",
      "Data columns (total 32 columns):\n",
      " #   Column  Non-Null Count   Dtype  \n",
      "---  ------  --------------   -----  \n",
      " 0   id      219129 non-null  int64  \n",
      " 1   Time    219129 non-null  float64\n",
      " 2   V1      219129 non-null  float64\n",
      " 3   V2      219129 non-null  float64\n",
      " 4   V3      219129 non-null  float64\n",
      " 5   V4      219129 non-null  float64\n",
      " 6   V5      219129 non-null  float64\n",
      " 7   V6      219129 non-null  float64\n",
      " 8   V7      219129 non-null  float64\n",
      " 9   V8      219129 non-null  float64\n",
      " 10  V9      219129 non-null  float64\n",
      " 11  V10     219129 non-null  float64\n",
      " 12  V11     219129 non-null  float64\n",
      " 13  V12     219129 non-null  float64\n",
      " 14  V13     219129 non-null  float64\n",
      " 15  V14     219129 non-null  float64\n",
      " 16  V15     219129 non-null  float64\n",
      " 17  V16     219129 non-null  float64\n",
      " 18  V17     219129 non-null  float64\n",
      " 19  V18     219129 non-null  float64\n",
      " 20  V19     219129 non-null  float64\n",
      " 21  V20     219129 non-null  float64\n",
      " 22  V21     219129 non-null  float64\n",
      " 23  V22     219129 non-null  float64\n",
      " 24  V23     219129 non-null  float64\n",
      " 25  V24     219129 non-null  float64\n",
      " 26  V25     219129 non-null  float64\n",
      " 27  V26     219129 non-null  float64\n",
      " 28  V27     219129 non-null  float64\n",
      " 29  V28     219129 non-null  float64\n",
      " 30  Amount  219129 non-null  float64\n",
      " 31  Class   219129 non-null  int64  \n",
      "dtypes: float64(30), int64(2)\n",
      "memory usage: 53.5 MB\n"
     ]
    }
   ],
   "source": [
    "train.info()"
   ],
   "metadata": {
    "id": "ff22d719c39d97bf",
    "outputId": "ba5691ba-feb0-46b8-ef8e-3262d3ad98ff",
    "colab": {
     "base_uri": "https://localhost:8080/"
    },
    "ExecuteTime": {
     "end_time": "2023-12-15T05:38:41.494632Z",
     "start_time": "2023-12-15T05:38:41.476417Z"
    }
   },
   "id": "ff22d719c39d97bf"
  },
  {
   "cell_type": "code",
   "execution_count": 104,
   "outputs": [
    {
     "name": "stdout",
     "output_type": "stream",
     "text": [
      "<class 'pandas.core.frame.DataFrame'>\n",
      "RangeIndex: 146087 entries, 0 to 146086\n",
      "Data columns (total 31 columns):\n",
      " #   Column  Non-Null Count   Dtype  \n",
      "---  ------  --------------   -----  \n",
      " 0   id      146087 non-null  int64  \n",
      " 1   Time    146087 non-null  float64\n",
      " 2   V1      146087 non-null  float64\n",
      " 3   V2      146087 non-null  float64\n",
      " 4   V3      146087 non-null  float64\n",
      " 5   V4      146087 non-null  float64\n",
      " 6   V5      146087 non-null  float64\n",
      " 7   V6      146087 non-null  float64\n",
      " 8   V7      146087 non-null  float64\n",
      " 9   V8      146087 non-null  float64\n",
      " 10  V9      146087 non-null  float64\n",
      " 11  V10     146087 non-null  float64\n",
      " 12  V11     146087 non-null  float64\n",
      " 13  V12     146087 non-null  float64\n",
      " 14  V13     146087 non-null  float64\n",
      " 15  V14     146087 non-null  float64\n",
      " 16  V15     146087 non-null  float64\n",
      " 17  V16     146087 non-null  float64\n",
      " 18  V17     146087 non-null  float64\n",
      " 19  V18     146087 non-null  float64\n",
      " 20  V19     146087 non-null  float64\n",
      " 21  V20     146087 non-null  float64\n",
      " 22  V21     146087 non-null  float64\n",
      " 23  V22     146087 non-null  float64\n",
      " 24  V23     146087 non-null  float64\n",
      " 25  V24     146087 non-null  float64\n",
      " 26  V25     146087 non-null  float64\n",
      " 27  V26     146087 non-null  float64\n",
      " 28  V27     146087 non-null  float64\n",
      " 29  V28     146087 non-null  float64\n",
      " 30  Amount  146087 non-null  float64\n",
      "dtypes: float64(30), int64(1)\n",
      "memory usage: 34.6 MB\n"
     ]
    }
   ],
   "source": [
    "test.info()"
   ],
   "metadata": {
    "id": "9cff663515db8bdb",
    "outputId": "c85ee4bd-4555-4228-85fe-3b4ed4e96256",
    "colab": {
     "base_uri": "https://localhost:8080/"
    },
    "ExecuteTime": {
     "end_time": "2023-12-15T05:38:41.500312Z",
     "start_time": "2023-12-15T05:38:41.488222Z"
    }
   },
   "id": "9cff663515db8bdb"
  },
  {
   "cell_type": "code",
   "execution_count": 105,
   "outputs": [
    {
     "data": {
      "text/plain": "   id  Time        V1        V2        V3        V4        V5        V6  \\\n0   0   0.0  2.074329 -0.129425 -1.137418  0.412846 -0.192638 -1.210144   \n1   1   0.0  1.998827 -1.250891 -0.520969 -0.894539 -1.122528 -0.270866   \n2   2   0.0  0.091535  1.004517 -0.223445 -0.435249  0.667548 -0.988351   \n3   3   0.0  1.979649 -0.184949 -1.064206  0.120125 -0.215238 -0.648829   \n4   4   0.0  1.025898 -0.171827  1.203717  1.243900 -0.636572  1.099074   \n\n         V7        V8  ...       V21       V22       V23       V24       V25  \\\n0  0.110697 -0.263477  ... -0.334701 -0.887840  0.336701 -0.110835 -0.291459   \n1 -1.029289  0.050198  ...  0.054848 -0.038367  0.133518 -0.461928 -0.465491   \n2  0.948146 -0.084789  ... -0.326725 -0.803736  0.154495  0.951233 -0.506919   \n3 -0.087826 -0.035367  ... -0.095514 -0.079792  0.167701 -0.042939  0.000799   \n4 -0.938651  0.569239  ...  0.099157  0.608908  0.027901 -0.262813  0.257834   \n\n        V26       V27       V28  Amount  Class  \n0  0.207733 -0.076576 -0.059577    1.98      0  \n1 -0.464655 -0.009413 -0.038238   84.00      0  \n2  0.085046  0.224458  0.087356    2.69      0  \n3 -0.096148 -0.057780 -0.073839    1.00      0  \n4 -0.252829  0.108338  0.021051    1.00      0  \n\n[5 rows x 32 columns]",
      "text/html": "<div>\n<style scoped>\n    .dataframe tbody tr th:only-of-type {\n        vertical-align: middle;\n    }\n\n    .dataframe tbody tr th {\n        vertical-align: top;\n    }\n\n    .dataframe thead th {\n        text-align: right;\n    }\n</style>\n<table border=\"1\" class=\"dataframe\">\n  <thead>\n    <tr style=\"text-align: right;\">\n      <th></th>\n      <th>id</th>\n      <th>Time</th>\n      <th>V1</th>\n      <th>V2</th>\n      <th>V3</th>\n      <th>V4</th>\n      <th>V5</th>\n      <th>V6</th>\n      <th>V7</th>\n      <th>V8</th>\n      <th>...</th>\n      <th>V21</th>\n      <th>V22</th>\n      <th>V23</th>\n      <th>V24</th>\n      <th>V25</th>\n      <th>V26</th>\n      <th>V27</th>\n      <th>V28</th>\n      <th>Amount</th>\n      <th>Class</th>\n    </tr>\n  </thead>\n  <tbody>\n    <tr>\n      <th>0</th>\n      <td>0</td>\n      <td>0.0</td>\n      <td>2.074329</td>\n      <td>-0.129425</td>\n      <td>-1.137418</td>\n      <td>0.412846</td>\n      <td>-0.192638</td>\n      <td>-1.210144</td>\n      <td>0.110697</td>\n      <td>-0.263477</td>\n      <td>...</td>\n      <td>-0.334701</td>\n      <td>-0.887840</td>\n      <td>0.336701</td>\n      <td>-0.110835</td>\n      <td>-0.291459</td>\n      <td>0.207733</td>\n      <td>-0.076576</td>\n      <td>-0.059577</td>\n      <td>1.98</td>\n      <td>0</td>\n    </tr>\n    <tr>\n      <th>1</th>\n      <td>1</td>\n      <td>0.0</td>\n      <td>1.998827</td>\n      <td>-1.250891</td>\n      <td>-0.520969</td>\n      <td>-0.894539</td>\n      <td>-1.122528</td>\n      <td>-0.270866</td>\n      <td>-1.029289</td>\n      <td>0.050198</td>\n      <td>...</td>\n      <td>0.054848</td>\n      <td>-0.038367</td>\n      <td>0.133518</td>\n      <td>-0.461928</td>\n      <td>-0.465491</td>\n      <td>-0.464655</td>\n      <td>-0.009413</td>\n      <td>-0.038238</td>\n      <td>84.00</td>\n      <td>0</td>\n    </tr>\n    <tr>\n      <th>2</th>\n      <td>2</td>\n      <td>0.0</td>\n      <td>0.091535</td>\n      <td>1.004517</td>\n      <td>-0.223445</td>\n      <td>-0.435249</td>\n      <td>0.667548</td>\n      <td>-0.988351</td>\n      <td>0.948146</td>\n      <td>-0.084789</td>\n      <td>...</td>\n      <td>-0.326725</td>\n      <td>-0.803736</td>\n      <td>0.154495</td>\n      <td>0.951233</td>\n      <td>-0.506919</td>\n      <td>0.085046</td>\n      <td>0.224458</td>\n      <td>0.087356</td>\n      <td>2.69</td>\n      <td>0</td>\n    </tr>\n    <tr>\n      <th>3</th>\n      <td>3</td>\n      <td>0.0</td>\n      <td>1.979649</td>\n      <td>-0.184949</td>\n      <td>-1.064206</td>\n      <td>0.120125</td>\n      <td>-0.215238</td>\n      <td>-0.648829</td>\n      <td>-0.087826</td>\n      <td>-0.035367</td>\n      <td>...</td>\n      <td>-0.095514</td>\n      <td>-0.079792</td>\n      <td>0.167701</td>\n      <td>-0.042939</td>\n      <td>0.000799</td>\n      <td>-0.096148</td>\n      <td>-0.057780</td>\n      <td>-0.073839</td>\n      <td>1.00</td>\n      <td>0</td>\n    </tr>\n    <tr>\n      <th>4</th>\n      <td>4</td>\n      <td>0.0</td>\n      <td>1.025898</td>\n      <td>-0.171827</td>\n      <td>1.203717</td>\n      <td>1.243900</td>\n      <td>-0.636572</td>\n      <td>1.099074</td>\n      <td>-0.938651</td>\n      <td>0.569239</td>\n      <td>...</td>\n      <td>0.099157</td>\n      <td>0.608908</td>\n      <td>0.027901</td>\n      <td>-0.262813</td>\n      <td>0.257834</td>\n      <td>-0.252829</td>\n      <td>0.108338</td>\n      <td>0.021051</td>\n      <td>1.00</td>\n      <td>0</td>\n    </tr>\n  </tbody>\n</table>\n<p>5 rows × 32 columns</p>\n</div>"
     },
     "execution_count": 105,
     "metadata": {},
     "output_type": "execute_result"
    }
   ],
   "source": [
    "train.head()"
   ],
   "metadata": {
    "id": "3970fee18633a101",
    "outputId": "8bce21d8-0ecd-4458-e94f-a984e4270ad5",
    "colab": {
     "base_uri": "https://localhost:8080/",
     "height": 255
    },
    "ExecuteTime": {
     "end_time": "2023-12-15T05:38:41.504430Z",
     "start_time": "2023-12-15T05:38:41.501177Z"
    }
   },
   "id": "3970fee18633a101"
  },
  {
   "cell_type": "code",
   "execution_count": 106,
   "outputs": [
    {
     "data": {
      "text/plain": "<Figure size 800x600 with 1 Axes>",
      "image/png": "[encoded data removed]"
     },
     "metadata": {},
     "output_type": "display_data"
    },
    {
     "data": {
      "text/plain": "Class\n0    218660\n1       469\nName: count, dtype: int64"
     },
     "execution_count": 106,
     "metadata": {},
     "output_type": "execute_result"
    }
   ],
   "source": [
    "class_distribution = train['Class'].value_counts()\n",
    "\n",
    "plt.figure(figsize=(8, 6))\n",
    "plt.bar(class_distribution.index, class_distribution.values, tick_label=['Non-Fraudulent (0)', 'Fraudulent (1)'])\n",
    "plt.xlabel('Class')\n",
    "plt.ylabel('Number of Transactions')\n",
    "plt.title('Class Distribution')\n",
    "plt.show()\n",
    "\n",
    "class_distribution"
   ],
   "metadata": {
    "id": "a677895acb5f795e",
    "outputId": "a4c2f258-5197-409c-96ed-59c84921bc2f",
    "colab": {
     "base_uri": "https://localhost:8080/",
     "height": 616
    },
    "ExecuteTime": {
     "end_time": "2023-12-15T05:38:41.555265Z",
     "start_time": "2023-12-15T05:38:41.508042Z"
    }
   },
   "id": "a677895acb5f795e"
  },
  {
   "cell_type": "code",
   "execution_count": 107,
   "outputs": [],
   "source": [
    "def manual_oversampling(X, y):\n",
    "    class_counts = y.value_counts()\n",
    "    majority_class = class_counts.idxmax()\n",
    "    minority_class = class_counts.idxmin()\n",
    "\n",
    "    indices_majority = y[y == majority_class].index\n",
    "    indices_minority = y[y == minority_class].index\n",
    "\n",
    "    new_instances_count = len(indices_majority) - len(indices_minority)\n",
    "\n",
    "    random_indices = np.random.choice(indices_minority, new_instances_count, replace=True)\n",
    "\n",
    "    over_sample_indices = np.concatenate([indices_majority, random_indices])\n",
    "\n",
    "    X_resampled = X.loc[over_sample_indices]\n",
    "    y_resampled = y.loc[over_sample_indices]\n",
    "\n",
    "    return X_resampled, y_resampled"
   ],
   "metadata": {
    "id": "71d9e45a1adda1d4",
    "ExecuteTime": {
     "end_time": "2023-12-15T05:38:41.555425Z",
     "start_time": "2023-12-15T05:38:41.553339Z"
    }
   },
   "id": "71d9e45a1adda1d4"
  },
  {
   "cell_type": "code",
   "execution_count": 108,
   "outputs": [
    {
     "data": {
      "text/plain": "Class\n0    174928\n1    174553\nName: count, dtype: int64"
     },
     "execution_count": 108,
     "metadata": {},
     "output_type": "execute_result"
    }
   ],
   "source": [
    "X = train.drop(['Class'], axis=1)\n",
    "y = train['Class']\n",
    "\n",
    "X_train, X_val, y_train, y_val = train_test_split(X, y, test_size=0.2, random_state=42, stratify=y)\n",
    "\n",
    "X_oversampled, y_oversampled = manual_oversampling(X_train, y_train)\n",
    "\n",
    "y_oversampled.value_counts()"
   ],
   "metadata": {
    "id": "93b1c0b39134e918",
    "outputId": "ce71bae0-d34e-446a-a753-1a0a6e7e58ee",
    "colab": {
     "base_uri": "https://localhost:8080/"
    },
    "ExecuteTime": {
     "end_time": "2023-12-15T05:38:41.639083Z",
     "start_time": "2023-12-15T05:38:41.556136Z"
    }
   },
   "id": "93b1c0b39134e918"
  },
  {
   "cell_type": "code",
   "source": [
    "over_class_distribution = y_oversampled.value_counts()\n",
    "\n",
    "plt.figure(figsize=(8, 6))\n",
    "plt.bar(class_distribution.index, class_distribution.values, tick_label=['Non-Fraudulent (0)', 'Fraudulent (1)'])\n",
    "plt.xlabel('Class')\n",
    "plt.ylabel('Number of Transactions (Resampled)')\n",
    "plt.title('Class Distribution (Resampled)')\n",
    "plt.show()\n",
    "\n",
    "over_class_distribution"
   ],
   "metadata": {
    "colab": {
     "base_uri": "https://localhost:8080/",
     "height": 616
    },
    "id": "W7jE6FDT3bOR",
    "outputId": "6246ad83-5e83-4eac-8634-7e17fa99bc83",
    "ExecuteTime": {
     "end_time": "2023-12-15T05:38:41.688770Z",
     "start_time": "2023-12-15T05:38:41.641133Z"
    }
   },
   "id": "W7jE6FDT3bOR",
   "execution_count": 109,
   "outputs": [
    {
     "data": {
      "text/plain": "<Figure size 800x600 with 1 Axes>",
      "image/png": "[encoded data removed]"
     },
     "metadata": {},
     "output_type": "display_data"
    },
    {
     "data": {
      "text/plain": "Class\n0    174928\n1    174553\nName: count, dtype: int64"
     },
     "execution_count": 109,
     "metadata": {},
     "output_type": "execute_result"
    }
   ]
  },
  {
   "cell_type": "code",
   "execution_count": 110,
   "outputs": [
    {
     "data": {
      "text/plain": "<Figure size 640x480 with 2 Axes>",
      "image/png": "[encoded data removed]"
     },
     "metadata": {},
     "output_type": "display_data"
    },
    {
     "name": "stdout",
     "output_type": "stream",
     "text": [
      "Oversampled Random Forest Classification Report\n",
      "===============================================\n",
      "                precision    recall  f1-score   support\n",
      "\n",
      "Non-Fraudulent       1.00      1.00      1.00     43732\n",
      "    Fraudulent       0.00      0.00      0.00        94\n",
      "\n",
      "      accuracy                           1.00     43826\n",
      "     macro avg       0.50      0.50      0.50     43826\n",
      "  weighted avg       1.00      1.00      1.00     43826\n"
     ]
    }
   ],
   "source": [
    "rf = RandomForestClassifier(random_state=42)\n",
    "\n",
    "rf.fit(X_oversampled, y_oversampled)\n",
    "\n",
    "y_val_pred = rf.predict(X_val)\n",
    "\n",
    "conf_matrix = confusion_matrix(y_val, y_val_pred)\n",
    "\n",
    "class_report = classification_report(y_val, y_val_pred, target_names=['Non-Fraudulent', 'Fraudulent'])\n",
    "title = \"Oversampled Random Forest Classification Report\"\n",
    "formatted_report = f\"{title}\\n{'=' * len(title)}\\n{class_report}\"\n",
    "\n",
    "\n",
    "sns.heatmap(conf_matrix, annot=True, fmt='d', cmap='Blues')\n",
    "plt.title('Confusion Matrix')\n",
    "plt.xlabel('Predicted Class')\n",
    "plt.ylabel('Actual Class')\n",
    "plt.show()\n",
    "print(formatted_report)"
   ],
   "metadata": {
    "id": "488e4d3e3d10ed8b",
    "outputId": "cbdebda0-64ad-45e1-c9fa-70744d3a66eb",
    "ExecuteTime": {
     "end_time": "2023-12-15T05:40:13.394160Z",
     "start_time": "2023-12-15T05:38:41.687714Z"
    }
   },
   "id": "488e4d3e3d10ed8b"
  },
  {
   "cell_type": "code",
   "execution_count": 111,
   "outputs": [],
   "source": [
    "def entropy(target_col):\n",
    "    value_counts = target_col.value_counts(normalize=True)\n",
    "    return -np.sum(value_counts * np.log2(value_counts))\n",
    "\n",
    "def bag_predict(row, tree, default_class=0): \n",
    "    while isinstance(tree, dict):\n",
    "        feature = next(iter(tree))\n",
    "        value = row[feature]\n",
    "        if value in tree[feature]:\n",
    "            tree = tree[feature][value]\n",
    "        else:\n",
    "            return default_class\n",
    "    return tree \n",
    "\n",
    "\n",
    "def get_majority_class(tree, feature):\n",
    "    if not isinstance(tree, pd.DataFrame):\n",
    "        tree = pd.DataFrame(tree)\n",
    "    if feature in tree.columns:\n",
    "        return tree[feature].value_counts().idxmax()\n",
    "    return None\n",
    "\n",
    "def majority_error(target_col):\n",
    "    value_counts = target_col.value_counts(normalize=True)\n",
    "    return 1 - np.max(value_counts)\n",
    "\n",
    "def gini_index(target_col):\n",
    "    counts = target_col.value_counts()\n",
    "    probabilities = counts / len(target_col)\n",
    "    return 1 - np.sum(probabilities**2)\n",
    "\n",
    "def info_gain(data, split_attribute_name, target_name, criterion=\"entropy\"):\n",
    "    criterion_map = {\n",
    "        \"entropy\": entropy,\n",
    "        \"majority_error\": majority_error,\n",
    "        \"gini_index\": gini_index\n",
    "    }\n",
    "    if criterion not in criterion_map:\n",
    "        raise ValueError(\"Invalid criterion provided\")\n",
    "\n",
    "    total_impurity = criterion_map[criterion](data[target_name])\n",
    "\n",
    "    weighted_impurity = 0\n",
    "    for value, group in data.groupby(split_attribute_name):\n",
    "        weighted_impurity += (len(group) / len(data)) * criterion_map[criterion](group[target_name])\n",
    "\n",
    "    return total_impurity - weighted_impurity\n",
    "\n",
    "def ID3_numeric(data, original_data, features, target_attribute_name=\"Class\", parent_node_class=None,\n",
    "                max_depth=None, depth=0, criterion=\"entropy\"):\n",
    "    unique_targets = np.unique(data[target_attribute_name])\n",
    "    if len(unique_targets) == 1:\n",
    "        return unique_targets[0]\n",
    "\n",
    "    if len(data) == 0:\n",
    "        return get_majority_class(original_data, target_attribute_name)\n",
    "\n",
    "    if len(features) == 0 or (max_depth and depth == max_depth):\n",
    "        return parent_node_class\n",
    "\n",
    "    parent_node_class = get_majority_class(data, target_attribute_name)\n",
    "\n",
    "    gains = [info_gain(data, feature, target_attribute_name, criterion) for feature in features]\n",
    "    best_feature = features[np.argmax(gains)]\n",
    "\n",
    "    tree = {best_feature: {}}\n",
    "\n",
    "    for value in np.unique(data[best_feature]):\n",
    "        best_val = data[best_feature] == value\n",
    "        sub_data = data.where(best_val).dropna()\n",
    "        remaining_features = [feat for feat in features if feat != best_feature]\n",
    "        subtree = ID3_numeric(\n",
    "            data=sub_data,\n",
    "            original_data=original_data,\n",
    "            features=remaining_features,\n",
    "            target_attribute_name=target_attribute_name,\n",
    "            parent_node_class=parent_node_class,\n",
    "            max_depth=max_depth,\n",
    "            depth=depth + 1,\n",
    "            criterion=criterion\n",
    "        )\n",
    "        tree[best_feature][value] = subtree\n",
    "\n",
    "    return tree\n",
    "\n",
    "num_bins = 10  \n",
    "binned_X_oversampled = pd.DataFrame()\n",
    "for col in X_oversampled.columns:\n",
    "    binned_X_oversampled[col] = pd.cut(X_oversampled[col], bins=num_bins, labels=False)\n",
    "\n",
    "y_resampled_int = y_oversampled.astype(int)\n",
    "\n",
    "id3_data = pd.concat([binned_X_oversampled, y_resampled_int], axis=1)\n",
    "\n",
    "id3_tree = ID3_numeric(\n",
    "    data=id3_data,\n",
    "    original_data=id3_data,\n",
    "    features=binned_X_oversampled.columns.tolist(),\n",
    "    target_attribute_name=\"Class\",\n",
    "    max_depth=5  \n",
    ")\n",
    "\n",
    "binned_X_val = pd.DataFrame()\n",
    "for col in X_val.columns:\n",
    "    binned_X_val[col] = pd.cut(X_val[col], bins=num_bins, labels=False)\n",
    "\n",
    "predictions = binned_X_val.apply(lambda row: bag_predict(row, id3_tree, default_class=0), axis=1)\n"
   ],
   "metadata": {
    "id": "a81c5c25d2e30e8c",
    "outputId": "087f9142-d1fc-4832-b166-090e2546f95f",
    "ExecuteTime": {
     "end_time": "2023-12-15T05:40:27.683127Z",
     "start_time": "2023-12-15T05:40:13.398810Z"
    }
   },
   "id": "a81c5c25d2e30e8c"
  },
  {
   "cell_type": "code",
   "execution_count": 112,
   "outputs": [
    {
     "name": "stdout",
     "output_type": "stream",
     "text": [
      "Manual Oversampled Data Classification Report\n",
      "=============================================\n",
      "                precision    recall  f1-score   support\n",
      "\n",
      "Non-Fraudulent       0.79      0.85      0.82    174928\n",
      "    Fraudulent       0.84      0.77      0.80    174553\n",
      "\n",
      "      accuracy                           0.81    349481\n",
      "     macro avg       0.81      0.81      0.81    349481\n",
      "  weighted avg       0.81      0.81      0.81    349481\n"
     ]
    }
   ],
   "source": [
    "predictions_oversampled = binned_X_oversampled.apply(lambda row: bag_predict(row, id3_tree, default_class=0), axis=1)\n",
    "\n",
    "class_report_oversampled = classification_report(y_oversampled, predictions_oversampled, target_names=['Non-Fraudulent', 'Fraudulent'])\n",
    "\n",
    "title = \"Manual Oversampled Data Classification Report\"\n",
    "formatted_report = f\"{title}\\n{'=' * len(title)}\\n{class_report_oversampled}\"\n",
    "\n",
    "print(formatted_report)"
   ],
   "metadata": {
    "collapsed": false,
    "ExecuteTime": {
     "end_time": "2023-12-15T05:40:29.855526Z",
     "start_time": "2023-12-15T05:40:27.685339Z"
    }
   },
   "id": "c546593b164910fe"
  },
  {
   "cell_type": "markdown",
   "source": [
    "## Under-sampling Implementation "
   ],
   "metadata": {
    "collapsed": false
   },
   "id": "d9c6ad0c7e557aab"
  },
  {
   "cell_type": "code",
   "execution_count": 113,
   "outputs": [],
   "source": [
    "def manual_undersampling(X, y):\n",
    "    class_counts = y.value_counts()\n",
    "    majority_class = class_counts.idxmax()\n",
    "    minority_class = class_counts.idxmin()\n",
    "\n",
    "    indices_majority = y[y == majority_class].index\n",
    "    indices_minority = y[y == minority_class].index\n",
    "\n",
    "    undersampled_count = len(indices_minority)\n",
    "\n",
    "    random_indices = np.random.choice(indices_majority, undersampled_count, replace=False)\n",
    "\n",
    "    under_sample_indices = np.concatenate([indices_minority, random_indices])\n",
    "\n",
    "    X_resampled = X.loc[under_sample_indices]\n",
    "    y_resampled = y.loc[under_sample_indices]\n",
    "\n",
    "    return X_resampled, y_resampled"
   ],
   "metadata": {
    "collapsed": false,
    "ExecuteTime": {
     "end_time": "2023-12-15T05:40:29.858023Z",
     "start_time": "2023-12-15T05:40:29.854529Z"
    }
   },
   "id": "726c2b7d4e92cc2a"
  },
  {
   "cell_type": "code",
   "execution_count": 114,
   "outputs": [
    {
     "data": {
      "text/plain": "<Figure size 800x600 with 1 Axes>",
      "image/png": "[encoded data removed]"
     },
     "metadata": {},
     "output_type": "display_data"
    },
    {
     "data": {
      "text/plain": "Class\n1    375\n0    375\nName: count, dtype: int64"
     },
     "execution_count": 114,
     "metadata": {},
     "output_type": "execute_result"
    }
   ],
   "source": [
    "X_undersampled, y_undersampled = manual_undersampling(X_train, y_train)\n",
    "y_undersampled.value_counts()\n",
    "under_class_distribution = y_undersampled.value_counts()\n",
    "plt.figure(figsize=(8, 6))\n",
    "plt.bar(under_class_distribution.index, under_class_distribution.values, tick_label=['Non-Fraudulent (0)', 'Fraudulent (1)'])\n",
    "plt.xlabel('Class')\n",
    "plt.ylabel('Number of Transactions')\n",
    "plt.title('Class Distribution')\n",
    "plt.show()\n",
    "\n",
    "under_class_distribution"
   ],
   "metadata": {
    "collapsed": false,
    "ExecuteTime": {
     "end_time": "2023-12-15T05:40:29.910308Z",
     "start_time": "2023-12-15T05:40:29.857602Z"
    }
   },
   "id": "90769db69a650cd6"
  },
  {
   "cell_type": "code",
   "execution_count": 115,
   "outputs": [
    {
     "name": "stdout",
     "output_type": "stream",
     "text": [
      "Undersampled Random Forest Classification Report\n",
      "================================================\n",
      "                precision    recall  f1-score   support\n",
      "\n",
      "Non-Fraudulent       1.00      0.78      0.88     43732\n",
      "    Fraudulent       0.01      0.68      0.01        94\n",
      "\n",
      "      accuracy                           0.78     43826\n",
      "     macro avg       0.50      0.73      0.44     43826\n",
      "  weighted avg       1.00      0.78      0.87     43826\n"
     ]
    },
    {
     "data": {
      "text/plain": "<Figure size 640x480 with 2 Axes>",
      "image/png": "[encoded data removed]"
     },
     "metadata": {},
     "output_type": "display_data"
    },
    {
     "data": {
      "text/plain": "<Figure size 1000x600 with 1 Axes>",
      "image/png": "[encoded data removed]"
     },
     "metadata": {},
     "output_type": "display_data"
    }
   ],
   "source": [
    "rf = RandomForestClassifier(random_state=42)\n",
    "\n",
    "rf.fit(X_undersampled, y_undersampled)\n",
    "\n",
    "y_val_pred = rf.predict(X_val)\n",
    "\n",
    "conf_matrix = confusion_matrix(y_val, y_val_pred)\n",
    "class_report = classification_report(y_val, y_val_pred, target_names=['Non-Fraudulent', 'Fraudulent'])\n",
    "title = \"Undersampled Random Forest Classification Report\"\n",
    "formatted_report = f\"{title}\\n{'=' * len(title)}\\n{class_report}\"\n",
    "print(formatted_report)\n",
    "import seaborn as sns\n",
    "sns.heatmap(conf_matrix, annot=True, fmt='d', cmap='Blues')\n",
    "plt.title('Confusion Matrix')\n",
    "plt.xlabel('Predicted Class')\n",
    "plt.ylabel('Actual Class')\n",
    "plt.show()\n",
    "plt.figure(figsize=(10, 6))\n",
    "plt.title(\"Feature Importances\")\n",
    "feature_importances = rf.feature_importances_\n",
    "sorted_indices = np.argsort(feature_importances)[::-1]\n",
    "plt.bar(range(X.shape[1]), feature_importances[sorted_indices], align=\"center\")\n",
    "plt.xticks(range(X.shape[1]), sorted_indices)\n",
    "plt.xlabel(\"Feature Index\")\n",
    "plt.ylabel(\"Importance\")\n",
    "plt.show()"
   ],
   "metadata": {
    "collapsed": false,
    "ExecuteTime": {
     "end_time": "2023-12-15T05:40:30.523526Z",
     "start_time": "2023-12-15T05:40:29.913469Z"
    }
   },
   "id": "9d2aef2a8f0fc4c3"
  },
  {
   "cell_type": "code",
   "execution_count": 116,
   "outputs": [],
   "source": [
    "def entropy(target_col):\n",
    "    value_counts = target_col.value_counts(normalize=True)\n",
    "    return -np.sum(value_counts * np.log2(value_counts))\n",
    "\n",
    "def bag_predict(row, tree, default_class=0): \n",
    "    while isinstance(tree, dict):\n",
    "        feature = next(iter(tree))\n",
    "        value = row[feature]\n",
    "        if value in tree[feature]:\n",
    "            tree = tree[feature][value]\n",
    "        else:\n",
    "            return default_class\n",
    "    return tree  \n",
    "\n",
    "\n",
    "def get_majority_class(tree, feature):\n",
    "    if not isinstance(tree, pd.DataFrame):\n",
    "        tree = pd.DataFrame(tree)\n",
    "    if feature in tree.columns:\n",
    "        return tree[feature].value_counts().idxmax()\n",
    "    return None\n",
    "\n",
    "def majority_error(target_col):\n",
    "    value_counts = target_col.value_counts(normalize=True)\n",
    "    return 1 - np.max(value_counts)\n",
    "\n",
    "def gini_index(target_col):\n",
    "    counts = target_col.value_counts()\n",
    "    probabilities = counts / len(target_col)\n",
    "    return 1 - np.sum(probabilities**2)\n",
    "\n",
    "def info_gain(data, split_attribute_name, target_name, criterion=\"entropy\"):\n",
    "    criterion_map = {\n",
    "        \"entropy\": entropy,\n",
    "        \"majority_error\": majority_error,\n",
    "        \"gini_index\": gini_index\n",
    "    }\n",
    "    if criterion not in criterion_map:\n",
    "        raise ValueError(\"Invalid criterion provided\")\n",
    "\n",
    "    total_impurity = criterion_map[criterion](data[target_name])\n",
    "\n",
    "    weighted_impurity = 0\n",
    "    for value, group in data.groupby(split_attribute_name):\n",
    "        weighted_impurity += (len(group) / len(data)) * criterion_map[criterion](group[target_name])\n",
    "\n",
    "    return total_impurity - weighted_impurity\n",
    "\n",
    "def ID3_numeric(data, original_data, features, target_attribute_name=\"Class\", parent_node_class=None,\n",
    "                max_depth=None, depth=0, criterion=\"entropy\"):\n",
    "    unique_targets = np.unique(data[target_attribute_name])\n",
    "    if len(unique_targets) == 1:\n",
    "        return unique_targets[0]\n",
    "\n",
    "    if len(data) == 0:\n",
    "        return get_majority_class(original_data, target_attribute_name)\n",
    "\n",
    "    if len(features) == 0 or (max_depth and depth == max_depth):\n",
    "        return parent_node_class\n",
    "\n",
    "    parent_node_class = get_majority_class(data, target_attribute_name)\n",
    "\n",
    "    gains = [info_gain(data, feature, target_attribute_name, criterion) for feature in features]\n",
    "    best_feature = features[np.argmax(gains)]\n",
    "\n",
    "    tree = {best_feature: {}}\n",
    "\n",
    "    for value in np.unique(data[best_feature]):\n",
    "        best_val = data[best_feature] == value\n",
    "        sub_data = data.where(best_val).dropna()\n",
    "        remaining_features = [feat for feat in features if feat != best_feature]\n",
    "        subtree = ID3_numeric(\n",
    "            data=sub_data,\n",
    "            original_data=original_data,\n",
    "            features=remaining_features,\n",
    "            target_attribute_name=target_attribute_name,\n",
    "            parent_node_class=parent_node_class,\n",
    "            max_depth=max_depth,\n",
    "            depth=depth + 1,\n",
    "            criterion=criterion\n",
    "        )\n",
    "        tree[best_feature][value] = subtree\n",
    "\n",
    "    return tree\n",
    "\n",
    "num_bins = 10  \n",
    "binned_X_oversampled = pd.DataFrame()\n",
    "for col in X_undersampled.columns:\n",
    "    binned_X_oversampled[col] = pd.cut(X_undersampled[col], bins=num_bins, labels=False)\n",
    "\n",
    "y_resampled_int = y_undersampled.astype(int)\n",
    "\n",
    "id3_data = pd.concat([binned_X_oversampled, y_resampled_int], axis=1)\n",
    "\n",
    "id3_tree = ID3_numeric(\n",
    "    data=id3_data,\n",
    "    original_data=id3_data,\n",
    "    features=binned_X_oversampled.columns.tolist(),\n",
    "    target_attribute_name=\"Class\",\n",
    "    max_depth=5  \n",
    ")"
   ],
   "metadata": {
    "collapsed": false,
    "ExecuteTime": {
     "end_time": "2023-12-15T05:40:33.687406Z",
     "start_time": "2023-12-15T05:40:30.599726Z"
    }
   },
   "id": "ef4a893d1f4c18d9"
  },
  {
   "cell_type": "code",
   "execution_count": 117,
   "outputs": [
    {
     "name": "stdout",
     "output_type": "stream",
     "text": [
      "Manual Undersampled Data Classification Report\n",
      "==============================================\n",
      "                precision    recall  f1-score   support\n",
      "\n",
      "Non-Fraudulent       0.95      0.99      0.97       375\n",
      "    Fraudulent       0.99      0.94      0.97       375\n",
      "\n",
      "      accuracy                           0.97       750\n",
      "     macro avg       0.97      0.97      0.97       750\n",
      "  weighted avg       0.97      0.97      0.97       750\n"
     ]
    }
   ],
   "source": [
    "binned_X_undersampled = pd.DataFrame()\n",
    "for col in X_undersampled.columns:\n",
    "    binned_X_undersampled[col] = pd.cut(X_undersampled[col], bins=num_bins, labels=False)\n",
    "\n",
    "predictions_undersampled = binned_X_undersampled.apply(lambda row: bag_predict(row, id3_tree, default_class=0), axis=1)\n",
    "\n",
    "class_report_undersampled = classification_report(y_undersampled, predictions_undersampled, target_names=['Non-Fraudulent', 'Fraudulent'])\n",
    "\n",
    "title = \"Manual Undersampled Data Classification Report\"\n",
    "formatted_report = f\"{title}\\n{'=' * len(title)}\\n{class_report_undersampled}\"\n",
    "print(formatted_report)"
   ],
   "metadata": {
    "collapsed": false,
    "ExecuteTime": {
     "end_time": "2023-12-15T05:40:33.704317Z",
     "start_time": "2023-12-15T05:40:33.688543Z"
    }
   },
   "id": "652f3fd1aa900e9b"
  },
  {
   "cell_type": "code",
   "execution_count": 118,
   "outputs": [],
   "source": [],
   "metadata": {
    "collapsed": false,
    "ExecuteTime": {
     "end_time": "2023-12-15T05:40:33.707328Z",
     "start_time": "2023-12-15T05:40:33.705592Z"
    }
   },
   "id": "936e77e1368d5e2f"
  }
 ],
 "metadata": {
  "kernelspec": {
   "display_name": "Python 3",
   "language": "python",
   "name": "python3"
  },
  "language_info": {
   "codemirror_mode": {
    "name": "ipython",
    "version": 2
   },
   "file_extension": ".py",
   "mimetype": "text/x-python",
   "name": "python",
   "nbconvert_exporter": "python",
   "pygments_lexer": "ipython2",
   "version": "2.7.6"
  },
  "colab": {
   "provenance": []
  }
 },
 "nbformat": 4,
 "nbformat_minor": 5
}
